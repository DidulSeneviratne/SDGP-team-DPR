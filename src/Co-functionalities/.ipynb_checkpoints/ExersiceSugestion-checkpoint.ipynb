{
 "cells": [
  {
   "cell_type": "code",
   "execution_count": 17,
   "id": "b690a4d3",
   "metadata": {},
   "outputs": [
    {
     "name": "stdout",
     "output_type": "stream",
     "text": [
      "Your rate is - Excellent\n",
      "No need of exercise.\n"
     ]
    }
   ],
   "source": [
    "def exersiceSuggestion(x):    \n",
    "    from matplotlib import pyplot as plt\n",
    "    from matplotlib import image as mpimg\n",
    "    if x == -2: # printing what is the average position status and relevent exersices\n",
    "        print(\"Your rate is - Poor\")\n",
    "        print(\"You have to follow following instruction and exercises\")\n",
    "        print(\"\")\n",
    "        print(\"Cat Cow\")\n",
    "        image = mpimg.imread('ExersiceSuggestionReferences/Poor/CatCow/CatCow.jpg')\n",
    "        plt.imshow(image)\n",
    "        plt.show()\n",
    "        file = open('ExersiceSuggestionReferences/Poor/CatCow/instruction.txt', 'r')\n",
    "        print(file.read())\n",
    "        file.close()\n",
    "        print(\"\")\n",
    "        print(\"Child Pose\")\n",
    "        image = mpimg.imread('ExersiceSuggestionReferences/Poor/ChildPose/ChildPose.jpg')\n",
    "        plt.imshow(image)\n",
    "        plt.show()\n",
    "        file = open('ExersiceSuggestionReferences/Poor/ChildPose/instruction.txt', 'r')\n",
    "        print(file.read())\n",
    "        file.close()\n",
    "        print(\"\")\n",
    "        print(\"High Plank\")\n",
    "        image = mpimg.imread('ExersiceSuggestionReferences/Poor/HighPlank/HighPlank.jpg')\n",
    "        plt.imshow(image)\n",
    "        plt.show()\n",
    "        file = open('ExersiceSuggestionReferences/Poor/HighPlank/instruction.txt', 'r')\n",
    "        print(file.read())\n",
    "        file.close()\n",
    "    elif x == -1:\n",
    "        print(\"Your rate is - Bad\")\n",
    "        print(\"You have to follow following instruction and exercises\")\n",
    "        print(\"\")\n",
    "        print(\"Chest Oprner\")\n",
    "        image = mpimg.imread('ExersiceSuggestionReferences/Bad/ChestOperner/ChestOperner.jpg')\n",
    "        plt.imshow(image)\n",
    "        plt.show()\n",
    "        file = open('ExersiceSuggestionReferences/Bad/ChestOperner/instruction.txt', 'r')\n",
    "        print(file.read())\n",
    "        file.close()\n",
    "        print(\"\")\n",
    "        print(\"Forward Fold\")\n",
    "        image = mpimg.imread('ExersiceSuggestionReferences/Bad/ForwardFold/ForwardFold.jpg')\n",
    "        plt.imshow(image)\n",
    "        plt.show()\n",
    "        file = open('ExersiceSuggestionReferences/Bad/ForwardFold/instruction.txt', 'r')\n",
    "        print(file.read())\n",
    "        file.close()\n",
    "        print(\"\")\n",
    "        print(\"Standing Cat Cow\")\n",
    "        image = mpimg.imread('ExersiceSuggestionReferences/Bad/StandingCatCow/StandingCatCow.jpg')\n",
    "        plt.imshow(image)\n",
    "        plt.show()\n",
    "        file = open('ExersiceSuggestionReferences/Bad/StandingCatCow/instruction.txt', 'r')\n",
    "        print(file.read())\n",
    "        file.close()\n",
    "    elif x == 0 or x == 1 or x == 2:\n",
    "        if x == 0:\n",
    "            print(\"Your rate is - Average\")\n",
    "            print(\"You are still on the fence, Please keep in mind\")\n",
    "        elif x == 1:\n",
    "            print(\"Your rate is - Good\")\n",
    "            print(\"No need of exercise but everytime keep in mind\")\n",
    "        elif x == 2:\n",
    "            return print(\"Your rate is - Excellent\\nNo need of exercise.\")\n",
    "        print(\"\")\n",
    "        file = open('ExersiceSuggestionReferences/CommonInstruction.txt', 'r')\n",
    "        print(file.read())\n",
    "        file.close()\n",
    "series = []\n",
    "file = open('../csv/graph.txt', 'r') #read the previous posture status to display the graph\n",
    "while file.readline() != \"\":\n",
    "    try:\n",
    "        series.append(int(file.readline()))\n",
    "    except:\n",
    "        pass\n",
    "file.close()\n",
    "max_v = max(series)\n",
    "exersiceSuggestion(max_v)"
   ]
  },
  {
   "cell_type": "code",
   "execution_count": 15,
   "id": "90996c2f",
   "metadata": {},
   "outputs": [
    {
     "name": "stdout",
     "output_type": "stream",
     "text": [
      "Requirement already satisfied: pytest in c:\\users\\dulsaradidul\\opencv\\lib\\site-packages (7.2.2)\n",
      "Requirement already satisfied: attrs>=19.2.0 in c:\\users\\dulsaradidul\\opencv\\lib\\site-packages (from pytest) (22.2.0)\n",
      "Requirement already satisfied: packaging in c:\\users\\dulsaradidul\\opencv\\lib\\site-packages (from pytest) (23.0)\n",
      "Requirement already satisfied: exceptiongroup>=1.0.0rc8 in c:\\users\\dulsaradidul\\opencv\\lib\\site-packages (from pytest) (1.1.1)\n",
      "Requirement already satisfied: iniconfig in c:\\users\\dulsaradidul\\opencv\\lib\\site-packages (from pytest) (2.0.0)\n",
      "Requirement already satisfied: colorama in c:\\users\\dulsaradidul\\opencv\\lib\\site-packages (from pytest) (0.4.6)\n",
      "Requirement already satisfied: importlib-metadata>=0.12 in c:\\users\\dulsaradidul\\opencv\\lib\\site-packages (from pytest) (6.0.0)\n",
      "Requirement already satisfied: tomli>=1.0.0 in c:\\users\\dulsaradidul\\opencv\\lib\\site-packages (from pytest) (2.0.1)\n",
      "Requirement already satisfied: pluggy<2.0,>=0.12 in c:\\users\\dulsaradidul\\opencv\\lib\\site-packages (from pytest) (1.0.0)\n",
      "Requirement already satisfied: zipp>=0.5 in c:\\users\\dulsaradidul\\opencv\\lib\\site-packages (from importlib-metadata>=0.12->pytest) (3.13.0)\n",
      "Requirement already satisfied: typing-extensions>=3.6.4 in c:\\users\\dulsaradidul\\opencv\\lib\\site-packages (from importlib-metadata>=0.12->pytest) (4.5.0)\n",
      "Your rate is - Excellent\n",
      "No need of exercise.\n"
     ]
    },
    {
     "name": "stderr",
     "output_type": "stream",
     "text": [
      "\n",
      "[notice] A new release of pip is available: 23.0 -> 23.0.1\n",
      "[notice] To update, run: python.exe -m pip install --upgrade pip\n"
     ]
    },
    {
     "ename": "AssertionError",
     "evalue": "",
     "output_type": "error",
     "traceback": [
      "\u001b[1;31m---------------------------------------------------------------------------\u001b[0m",
      "\u001b[1;31mAssertionError\u001b[0m                            Traceback (most recent call last)",
      "\u001b[1;32m~\\AppData\\Local\\Temp\\ipykernel_11224\\1122274000.py\u001b[0m in \u001b[0;36m<module>\u001b[1;34m\u001b[0m\n\u001b[0;32m      4\u001b[0m     \u001b[0mexpected\u001b[0m \u001b[1;33m=\u001b[0m \u001b[1;34m\"Your rate is - Excellent\\nNo need of exercise.\"\u001b[0m\u001b[1;33m\u001b[0m\u001b[1;33m\u001b[0m\u001b[0m\n\u001b[0;32m      5\u001b[0m     \u001b[1;32massert\u001b[0m \u001b[0mexersiceSuggestion\u001b[0m\u001b[1;33m(\u001b[0m\u001b[1;36m2\u001b[0m\u001b[1;33m)\u001b[0m \u001b[1;33m==\u001b[0m \u001b[0mexpected\u001b[0m\u001b[1;33m\u001b[0m\u001b[1;33m\u001b[0m\u001b[0m\n\u001b[1;32m----> 6\u001b[1;33m \u001b[0mtest_exersiceSuggestion\u001b[0m\u001b[1;33m(\u001b[0m\u001b[1;33m)\u001b[0m\u001b[1;33m\u001b[0m\u001b[1;33m\u001b[0m\u001b[0m\n\u001b[0m",
      "\u001b[1;32m~\\AppData\\Local\\Temp\\ipykernel_11224\\1122274000.py\u001b[0m in \u001b[0;36mtest_exersiceSuggestion\u001b[1;34m()\u001b[0m\n\u001b[0;32m      3\u001b[0m \u001b[1;32mdef\u001b[0m \u001b[0mtest_exersiceSuggestion\u001b[0m\u001b[1;33m(\u001b[0m\u001b[1;33m)\u001b[0m\u001b[1;33m:\u001b[0m\u001b[1;33m\u001b[0m\u001b[1;33m\u001b[0m\u001b[0m\n\u001b[0;32m      4\u001b[0m     \u001b[0mexpected\u001b[0m \u001b[1;33m=\u001b[0m \u001b[1;34m\"Your rate is - Excellent\\nNo need of exercise.\"\u001b[0m\u001b[1;33m\u001b[0m\u001b[1;33m\u001b[0m\u001b[0m\n\u001b[1;32m----> 5\u001b[1;33m     \u001b[1;32massert\u001b[0m \u001b[0mexersiceSuggestion\u001b[0m\u001b[1;33m(\u001b[0m\u001b[1;36m2\u001b[0m\u001b[1;33m)\u001b[0m \u001b[1;33m==\u001b[0m \u001b[0mexpected\u001b[0m\u001b[1;33m\u001b[0m\u001b[1;33m\u001b[0m\u001b[0m\n\u001b[0m\u001b[0;32m      6\u001b[0m \u001b[0mtest_exersiceSuggestion\u001b[0m\u001b[1;33m(\u001b[0m\u001b[1;33m)\u001b[0m\u001b[1;33m\u001b[0m\u001b[1;33m\u001b[0m\u001b[0m\n",
      "\u001b[1;31mAssertionError\u001b[0m: "
     ]
    }
   ],
   "source": [
    "!pip install pytest\n",
    "import pytest\n",
    "def test_exersiceSuggestion():\n",
    "    expected = \"Your rate is - Excellent\\nNo need of exercise.\"\n",
    "    assert exersiceSuggestion(2) == expected\n",
    "test_exersiceSuggestion()"
   ]
  },
  {
   "cell_type": "code",
   "execution_count": null,
   "id": "a6e81e51",
   "metadata": {},
   "outputs": [],
   "source": []
  }
 ],
 "metadata": {
  "kernelspec": {
   "display_name": "Python 3 (ipykernel)",
   "language": "python",
   "name": "python3"
  },
  "language_info": {
   "codemirror_mode": {
    "name": "ipython",
    "version": 3
   },
   "file_extension": ".py",
   "mimetype": "text/x-python",
   "name": "python",
   "nbconvert_exporter": "python",
   "pygments_lexer": "ipython3",
   "version": "3.7.4"
  }
 },
 "nbformat": 4,
 "nbformat_minor": 5
}
