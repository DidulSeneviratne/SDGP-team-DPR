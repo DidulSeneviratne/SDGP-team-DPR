{
 "cells": [
  {
   "cell_type": "code",
   "execution_count": 2,
   "id": "276843bd",
   "metadata": {},
   "outputs": [
    {
     "name": "stdout",
     "output_type": "stream",
     "text": [
      "OS name: nt , system: Windows , release: 10\n",
      "Anaconda version:\n",
      "# packages in environment at C:\\Users\\DulsaraDidul\\anaconda3:Python version:  3.7.4 (tags/v3.7.4:e09359112e, Jul  8 2019, 20:34:20) [MSC v.1916 64 bit (AMD64)]\n",
      "Python version info:  sys.version_info(major=3, minor=7, micro=4, releaselevel='final', serial=0)\n",
      "PIL version:  9.4.0\n",
      "\n",
      "#\n",
      "# Name                    Version                   Build  Channel\n",
      "anaconda                  2022.10                  py39_0  \n",
      "anaconda-client           1.11.0           py39haa95532_0  \n",
      "anaconda-navigator        2.3.1            py39haa95532_0  \n",
      "anaconda-project          0.11.1           py39haa95532_0  \n",
      "Matplotlib version:  3.5.3\n",
      "Keras version: 2.11.0\n",
      "OpenCV version:  4.7.0\n"
     ]
    }
   ],
   "source": [
    "import os, platform\n",
    "print('OS name:', os.name, ', system:', platform.system(), ', release:', platform.release())\n",
    "import sys\n",
    "print(\"Anaconda version:\")\n",
    "!conda list anaconda\n",
    "print(\"Python version: \", sys.version)\n",
    "print(\"Python version info: \", sys.version_info)\n",
    "import PIL\n",
    "print(\"PIL version: \", PIL.__version__)\n",
    "import matplotlib\n",
    "print(\"Matplotlib version: \", matplotlib.__version__)\n",
    "import tensorflow as tf\n",
    "from tensorflow import keras\n",
    "print(\"Keras version:\", tf.keras.__version__)\n",
    "import cv2\n",
    "print(\"OpenCV version: \", cv2.__version__)"
   ]
  },
  {
   "cell_type": "code",
   "execution_count": 5,
   "id": "89b9d764",
   "metadata": {},
   "outputs": [],
   "source": [
    "# import required image module\n",
    "from PIL import Image\n",
    "\n",
    "FilePath1 = '../../dataset/bad/1/'\n",
    "FilePath2 = '../../dataset/bad/3/'\n",
    "FileExt = '.jpg'\n",
    "\n",
    "from tensorflow.keras.utils import save_img\n",
    "\n",
    "for FileName in range(1,146):\n",
    "    # Open an already existing image\n",
    "    ImageFile1 = FilePath1 + str(FileName) + FileExt\n",
    "    ImageFile2 = FilePath2 + str(FileName) + FileExt\n",
    "    \n",
    "    imageObject = Image.open(ImageFile1)\n",
    "\n",
    "    # Do a flip of left and right\n",
    "    hori_flippedImage = imageObject.transpose(Image.FLIP_LEFT_RIGHT)\n",
    "\n",
    "    save_img(ImageFile2, hori_flippedImage)"
   ]
  },
  {
   "cell_type": "code",
   "execution_count": 6,
   "id": "46634f8b",
   "metadata": {},
   "outputs": [],
   "source": [
    "# import required image module\n",
    "from PIL import Image\n",
    "\n",
    "FilePath3 = '../../dataset/bad/2/'\n",
    "FilePath4 = '../../dataset/bad/4/'\n",
    "FileExt = '.jpg'\n",
    "\n",
    "from tensorflow.keras.utils import save_img\n",
    "\n",
    "for FileName in range(146):\n",
    "    # Open an already existing image\n",
    "    ImageFile1 = FilePath3 + str(FileName) + FileExt\n",
    "    ImageFile2 = FilePath4 + str(FileName) + FileExt\n",
    "    \n",
    "    imageObject = Image.open(ImageFile1)\n",
    "\n",
    "    # Do a flip of left and right\n",
    "    hori_flippedImage = imageObject.transpose(Image.FLIP_LEFT_RIGHT)\n",
    "\n",
    "    save_img(ImageFile2, hori_flippedImage)"
   ]
  },
  {
   "cell_type": "code",
   "execution_count": null,
   "id": "71578a6d",
   "metadata": {},
   "outputs": [],
   "source": []
  }
 ],
 "metadata": {
  "kernelspec": {
   "display_name": "Python 3 (ipykernel)",
   "language": "python",
   "name": "python3"
  },
  "language_info": {
   "codemirror_mode": {
    "name": "ipython",
    "version": 3
   },
   "file_extension": ".py",
   "mimetype": "text/x-python",
   "name": "python",
   "nbconvert_exporter": "python",
   "pygments_lexer": "ipython3",
   "version": "3.7.4"
  }
 },
 "nbformat": 4,
 "nbformat_minor": 5
}
